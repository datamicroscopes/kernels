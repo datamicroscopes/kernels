{
 "metadata": {
  "name": "",
  "signature": "sha256:e04146c0fb224859d524eb793d863f1b587f271d0a5f282515be031cc8ad0fd7"
 },
 "nbformat": 3,
 "nbformat_minor": 0,
 "worksheets": [
  {
   "cells": [
    {
     "cell_type": "heading",
     "level": 3,
     "metadata": {},
     "source": [
      "Clustering the Enron e-mail corpus using IRM"
     ]
    },
    {
     "cell_type": "code",
     "collapsed": false,
     "input": [
      "%matplotlib inline\n",
      "import pickle\n",
      "import time\n",
      "import itertools as it\n",
      "import numpy as np\n",
      "import matplotlib.pylab as plt\n",
      "import matplotlib.patches as patches"
     ],
     "language": "python",
     "metadata": {},
     "outputs": [],
     "prompt_number": 19
    },
    {
     "cell_type": "code",
     "collapsed": false,
     "input": [
      "import enron_utils\n",
      "\n",
      "# this data comes from the publically available enron email \n",
      "# dataset: http://www.cs.cmu.edu/~./enron/\n",
      "#\n",
      "# preprocessing was done as suggested by:\n",
      "# http://www.kecl.ntt.co.jp/as/members/ishiguro/open/2012AISTATS.pdf\n",
      "#\n",
      "# see script `enron_crawler.py' for more details\n",
      "with open('results.p') as fp:\n",
      "    communications = pickle.load(fp)\n",
      "def allnames(o):\n",
      "    for k, v in o:\n",
      "        yield [k] + list(v)\n",
      "names = set(it.chain.from_iterable(allnames(communications)))\n",
      "names = sorted(list(names))\n",
      "namemap = { name : idx for idx, name in enumerate(names) }"
     ],
     "language": "python",
     "metadata": {},
     "outputs": [],
     "prompt_number": 2
    },
    {
     "cell_type": "code",
     "collapsed": false,
     "input": [
      "N = len(names)\n",
      "# X_{ij} = 1 iff person i sent person j an email\n",
      "communications_relation = np.zeros((N, N), dtype=np.bool)\n",
      "for sender, receivers in communications:\n",
      "    sender_id = namemap[sender]\n",
      "    for receiver in receivers:\n",
      "        receiver_id = namemap[receiver]\n",
      "        communications_relation[sender_id, receiver_id] = True\n",
      "\n",
      "print \"N=\", N"
     ],
     "language": "python",
     "metadata": {},
     "outputs": [
      {
       "output_type": "stream",
       "stream": "stdout",
       "text": [
        "N= 115\n"
       ]
      }
     ],
     "prompt_number": 3
    },
    {
     "cell_type": "code",
     "collapsed": false,
     "input": [
      "plt.imshow(communications_relation, cmap=plt.cm.binary, interpolation='nearest')"
     ],
     "language": "python",
     "metadata": {},
     "outputs": [
      {
       "metadata": {},
       "output_type": "pyout",
       "prompt_number": 4,
       "text": [
        "<matplotlib.image.AxesImage at 0x1073bd150>"
       ]
      },
      {
       "metadata": {},
       "output_type": "display_data",
       "png": "[encoded data removed]",
       "text": [
        "<matplotlib.figure.Figure at 0x1072fd510>"
       ]
      }
     ],
     "prompt_number": 4
    },
    {
     "cell_type": "code",
     "collapsed": false,
     "input": [
      "from microscopes.cxx.common.rng import rng\n",
      "from microscopes.cxx.common.sparse_ndarray.dataview import numpy_dataview\n",
      "from microscopes.models import bb as beta_bernoulli\n",
      "from microscopes.irm.definition import model_definition\n",
      "from microscopes.cxx.irm.model import initialize, bind\n",
      "from microscopes.cxx.kernels import gibbs\n",
      "from microscopes.cxx.kernels import slice\n",
      "from microscopes.cxx.common.scalar_functions import log_exponential, log_noninformative_beta_prior"
     ],
     "language": "python",
     "metadata": {},
     "outputs": [],
     "prompt_number": 5
    },
    {
     "cell_type": "code",
     "collapsed": false,
     "input": [
      "defn = model_definition([N], [((0, 0), beta_bernoulli)])\n",
      "view = numpy_dataview(communications_relation)\n",
      "r = rng()"
     ],
     "language": "python",
     "metadata": {},
     "outputs": [],
     "prompt_number": 6
    },
    {
     "cell_type": "code",
     "collapsed": false,
     "input": [
      "latent = initialize(defn, [view], r=r, domain_hps=[{'alpha':1e-3}])"
     ],
     "language": "python",
     "metadata": {},
     "outputs": [
      {
       "output_type": "stream",
       "stream": "stderr",
       "text": [
        "/Users/stephentu/anaconda/envs/ipy/lib/python2.7/site-packages/distributions/mixins.py:38: UserWarning: DEPRECATED dump_protobuf: use protobuf_dump(message) instead\n",
        "  warnings.warn('DEPRECATED {}: {}'.format(fun.__name__, message))\n"
       ]
      }
     ],
     "prompt_number": 7
    },
    {
     "cell_type": "code",
     "collapsed": false,
     "input": [
      "model = bind(latent, 0, [view])"
     ],
     "language": "python",
     "metadata": {},
     "outputs": [],
     "prompt_number": 8
    },
    {
     "cell_type": "code",
     "collapsed": false,
     "input": [
      "start = time.time()\n",
      "for _ in xrange(1000):\n",
      "    gibbs.assign(model, r)\n",
      "    #slice.hp(model, r, hparams={0:{('alpha','beta'):(log_noninformative_beta_prior, 0.5)}})\n",
      "print \"inference took {} seconds\".format(time.time() - start)"
     ],
     "language": "python",
     "metadata": {},
     "outputs": [
      {
       "output_type": "stream",
       "stream": "stdout",
       "text": [
        "inference took 36.8475780487 seconds\n"
       ]
      }
     ],
     "prompt_number": 9
    },
    {
     "cell_type": "code",
     "collapsed": false,
     "input": [
      "def groups(assignments):\n",
      "    cluster_map = {}\n",
      "    for idx, gid in enumerate(assignments):\n",
      "        lst = cluster_map.get(gid, [])\n",
      "        lst.append(idx)\n",
      "        cluster_map[gid] = lst\n",
      "    return tuple(sorted(map(tuple, cluster_map.values()), key=len, reverse=True))"
     ],
     "language": "python",
     "metadata": {},
     "outputs": [],
     "prompt_number": 10
    },
    {
     "cell_type": "code",
     "collapsed": false,
     "input": [
      "clusters = groups(model.assignments())\n",
      "ordering = list(it.chain.from_iterable(clusters))"
     ],
     "language": "python",
     "metadata": {},
     "outputs": [],
     "prompt_number": 11
    },
    {
     "cell_type": "code",
     "collapsed": false,
     "input": [
      "z = communications_relation.copy()\n",
      "z = z[ordering]\n",
      "z = z[:,ordering]\n",
      "sizes = map(len, clusters)\n",
      "boundaries = np.cumsum(sizes)[:-1]\n",
      "\n",
      "def cluster_with_name(clusters, name, payload=None):\n",
      "    ident = namemap[name]\n",
      "    for idx, cluster in enumerate(clusters):\n",
      "        if ident in cluster:\n",
      "            return idx, (cluster, payload)\n",
      "    raise ValueError(\"could not find name\")\n",
      "\n",
      "suspicious = [\n",
      "    # (k=3) in S5.3 of \"Subset Infinite Relational Models\"\n",
      "    # Identified with the green cluster\n",
      "    cluster_with_name(clusters, \"horton-s\", {\"color\":\"#66CC66\", \"desc\":\"The pipeline/regulatory group\"}), \n",
      "\n",
      "    # (k=2) in S5.3 of \"Subset Infinite Relational Models\"\n",
      "    # Identified with the orange cluster\n",
      "    cluster_with_name(clusters, \"skilling-j\", {\"color\":\"#FF6600\", \"desc\":\"The VIP/executives group\"}),\n",
      "]\n",
      "suspicious = dict(suspicious)\n",
      "\n",
      "for idx, (boundary, size) in enumerate(zip(boundaries, sizes)):\n",
      "    if size < 5:\n",
      "        continue\n",
      "    plt.plot(range(N), boundary*np.ones(N), color='#0066CC')\n",
      "    plt.plot(boundary*np.ones(N), range(N), color='#0066CC')\n",
      "    if idx in suspicious:\n",
      "        rect = patches.Rectangle((boundary-size, boundary-size), \n",
      "            width=size, height=size, alpha=0.5, fc=suspicious[idx][1][\"color\"])\n",
      "        plt.gca().add_patch(rect)\n",
      "plt.imshow(z, cmap=plt.cm.binary, interpolation='nearest')"
     ],
     "language": "python",
     "metadata": {},
     "outputs": [
      {
       "metadata": {},
       "output_type": "pyout",
       "prompt_number": 35,
       "text": [
        "<matplotlib.image.AxesImage at 0x10e7bdb90>"
       ]
      },
      {
       "metadata": {},
       "output_type": "display_data",
       "png": "[encoded data removed]",
       "text": [
        "<matplotlib.figure.Figure at 0x110488390>"
       ]
      }
     ],
     "prompt_number": 35
    },
    {
     "cell_type": "code",
     "collapsed": false,
     "input": [
      "def cluster_names(cluster):\n",
      "    return [names[idx] for idx in cluster]\n",
      "def get_full_name(name):\n",
      "    return enron_utils.FULLNAMES.get(name, name)\n",
      "def get_title(name):\n",
      "    return enron_utils.TITLES.get(name, \"?\")\n",
      "\n",
      "for cluster, payload in suspicious.values():\n",
      "    cnames = cluster_names(cluster)\n",
      "    ctitles = map(get_title, cnames)\n",
      "    print payload[\"desc\"]\n",
      "    for n, t in zip(cnames, ctitles):\n",
      "        print \"\\t\", get_full_name(n), '\\t\\t\"{}\"'.format(t)\n",
      "    print"
     ],
     "language": "python",
     "metadata": {},
     "outputs": [
      {
       "output_type": "stream",
       "stream": "stdout",
       "text": [
        "The pipeline/regulatory group\n",
        "\tLynn Blair \t\t\"?\"\n",
        "\tLarry Campbell \t\t\"Employee Senior Specialist\"\n",
        "\tShelley Corman \t\t\"Vice President Regulatory Affairs\"\n",
        "\tLindy Donoho \t\t\"Employee\"\n",
        "\tDrew Fossum \t\t\"Vice President\"\n",
        "\tTracy Geaccone \t\t\"Employee\"\n",
        "\tharris-s \t\t\"?\"\n",
        "\tRod Hayslett \t\t\"Vice President Also Chief Financial Officer and Treasurer\"\n",
        "\tStanley Horton \t\t\"President Enron Gas Pipeline\"\n",
        "\tKevin Hyatt \t\t\"Director Pipeline Business\"\n",
        "\tMichelle Lokay \t\t\"Employee Administrative Asisstant\"\n",
        "\tTeb Lokey \t\t\"Manager Regulatory Affairs\"\n",
        "\tDanny McCarty \t\t\"Vice President\"\n",
        "\tmcconnell-m \t\t\"?\"\n",
        "\tDarrell Schoolcraft \t\t\"?\"\n",
        "\tKimberly Watson \t\t\"?\"\n",
        "\twilliams-j \t\t\"?\"\n",
        "\n",
        "The VIP/executives group\n",
        "\tRick Buy \t\t\"Manager Chief Risk Management Officer\"\n",
        "\tJeff Dasovich \t\t\"Employee Government Relation Executive\"\n",
        "\tDavid Delainey \t\t\"CEO Enron North America and Enron Enery Services\"\n",
        "\tJames Derrick \t\t\"In House Lawyer\"\n",
        "\tLouise Kitchen \t\t\"President Enron Online\"\n",
        "\tJohn Lavorato \t\t\"CEO Enron America\"\n",
        "\tRichard Shapiro \t\t\"Vice President Regulatory Affairs\"\n",
        "\tJeffery Skilling \t\t\"CEO\"\n",
        "\tBarry Tycholiz \t\t\"Vice President\"\n",
        "\tGreg Whalley \t\t\"President\"\n",
        "\n"
       ]
      }
     ],
     "prompt_number": 39
    },
    {
     "cell_type": "code",
     "collapsed": false,
     "input": [],
     "language": "python",
     "metadata": {},
     "outputs": []
    }
   ],
   "metadata": {}
  }
 ]
}