{
 "metadata": {
  "name": "",
  "signature": "sha256:3064040a47683b62bab09fa358d17da133586f28b23a03ee829bf21c5da75053"
 },
 "nbformat": 3,
 "nbformat_minor": 0,
 "worksheets": [
  {
   "cells": [
    {
     "cell_type": "heading",
     "level": 3,
     "metadata": {},
     "source": [
      "Clustering the Enron e-mail corpus using IRM"
     ]
    },
    {
     "cell_type": "code",
     "collapsed": false,
     "input": [
      "%matplotlib inline\n",
      "import pickle\n",
      "import time\n",
      "import itertools as it\n",
      "import numpy as np\n",
      "import matplotlib.pylab as plt\n",
      "import matplotlib.patches as patches\n",
      "\n",
      "from multiprocessing import cpu_count"
     ],
     "language": "python",
     "metadata": {},
     "outputs": [],
     "prompt_number": 1
    },
    {
     "cell_type": "code",
     "collapsed": false,
     "input": [
      "import enron_utils\n",
      "\n",
      "# this data comes from the publically available enron email \n",
      "# dataset: http://www.cs.cmu.edu/~./enron/\n",
      "#\n",
      "# preprocessing was done as suggested by:\n",
      "# http://www.kecl.ntt.co.jp/as/members/ishiguro/open/2012AISTATS.pdf\n",
      "#\n",
      "# see script `enron_crawler.py' for more details\n",
      "with open('results.p') as fp:\n",
      "    communications = pickle.load(fp)\n",
      "def allnames(o):\n",
      "    for k, v in o:\n",
      "        yield [k] + list(v)\n",
      "names = set(it.chain.from_iterable(allnames(communications)))\n",
      "names = sorted(list(names))\n",
      "namemap = { name : idx for idx, name in enumerate(names) }"
     ],
     "language": "python",
     "metadata": {},
     "outputs": [],
     "prompt_number": 2
    },
    {
     "cell_type": "code",
     "collapsed": false,
     "input": [
      "N = len(names)\n",
      "# X_{ij} = 1 iff person i sent person j an email\n",
      "communications_relation = np.zeros((N, N), dtype=np.bool)\n",
      "for sender, receivers in communications:\n",
      "    sender_id = namemap[sender]\n",
      "    for receiver in receivers:\n",
      "        receiver_id = namemap[receiver]\n",
      "        communications_relation[sender_id, receiver_id] = True\n",
      "\n",
      "print \"N=\", N"
     ],
     "language": "python",
     "metadata": {},
     "outputs": [
      {
       "output_type": "stream",
       "stream": "stdout",
       "text": [
        "N= 115\n"
       ]
      }
     ],
     "prompt_number": 3
    },
    {
     "cell_type": "code",
     "collapsed": false,
     "input": [
      "plt.imshow(communications_relation, cmap=plt.cm.binary, interpolation='nearest')\n",
      "plt.xlabel('people')\n",
      "plt.ylabel('people')"
     ],
     "language": "python",
     "metadata": {},
     "outputs": [
      {
       "metadata": {},
       "output_type": "pyout",
       "prompt_number": 18,
       "text": [
        "<matplotlib.text.Text at 0x10a7a3fd0>"
       ]
      },
      {
       "metadata": {},
       "output_type": "display_data",
       "png": "[encoded data removed]",
       "text": [
        "<matplotlib.figure.Figure at 0x1074976d0>"
       ]
      }
     ],
     "prompt_number": 18
    },
    {
     "cell_type": "code",
     "collapsed": false,
     "input": [
      "from microscopes.common.rng import rng\n",
      "from microscopes.common.relation.dataview import numpy_dataview\n",
      "from microscopes.models import bb as beta_bernoulli\n",
      "from microscopes.irm.definition import model_definition\n",
      "from microscopes.irm import model, runner, query\n",
      "from microscopes.kernels import parallel\n",
      "from microscopes.common.query import groups, zmatrix_heuristic_block_ordering, zmatrix_reorder"
     ],
     "language": "python",
     "metadata": {},
     "outputs": [],
     "prompt_number": 12
    },
    {
     "cell_type": "code",
     "collapsed": false,
     "input": [
      "defn = model_definition([N], [((0, 0), beta_bernoulli)])\n",
      "views = [numpy_dataview(communications_relation)]\n",
      "prng = rng()"
     ],
     "language": "python",
     "metadata": {},
     "outputs": [],
     "prompt_number": 6
    },
    {
     "cell_type": "code",
     "collapsed": false,
     "input": [
      "nchains = cpu_count()\n",
      "latents = [model.initialize(defn, views, r=prng, cluster_hps=[{'alpha':1e-3}]) for _ in xrange(nchains)]\n",
      "kc = runner.default_assign_kernel_config(defn)\n",
      "runners = [runner.runner(defn, views, latent, kc) for latent in latents]\n",
      "r = parallel.runner(runners)"
     ],
     "language": "python",
     "metadata": {},
     "outputs": [],
     "prompt_number": 7
    },
    {
     "cell_type": "code",
     "collapsed": false,
     "input": [
      "start = time.time()\n",
      "r.run(r=prng, niters=1000)\n",
      "print \"inference took {} seconds\".format(time.time() - start)"
     ],
     "language": "python",
     "metadata": {},
     "outputs": [
      {
       "output_type": "stream",
       "stream": "stdout",
       "text": [
        "inference took 78.0861270428 seconds\n"
       ]
      }
     ],
     "prompt_number": 8
    },
    {
     "cell_type": "code",
     "collapsed": false,
     "input": [
      "infers = r.get_latents()\n",
      "clusters = groups(infers[0].assignments(0), sort=True)\n",
      "ordering = list(it.chain.from_iterable(clusters))"
     ],
     "language": "python",
     "metadata": {},
     "outputs": [],
     "prompt_number": 9
    },
    {
     "cell_type": "code",
     "collapsed": false,
     "input": [
      "z = communications_relation.copy()\n",
      "z = z[ordering]\n",
      "z = z[:,ordering]\n",
      "sizes = map(len, clusters)\n",
      "boundaries = np.cumsum(sizes)[:-1]\n",
      "\n",
      "def cluster_with_name(clusters, name, payload=None):\n",
      "    ident = namemap[name]\n",
      "    for idx, cluster in enumerate(clusters):\n",
      "        if ident in cluster:\n",
      "            return idx, (cluster, payload)\n",
      "    raise ValueError(\"could not find name\")\n",
      "\n",
      "suspicious = [\n",
      "    # (k=3) in S5.3 of \"Subset Infinite Relational Models\"\n",
      "    # Identified with the green cluster\n",
      "    cluster_with_name(clusters, \"horton-s\", {\"color\":\"#66CC66\", \"desc\":\"The pipeline/regulatory group\"}), \n",
      "\n",
      "    # (k=2) in S5.3 of \"Subset Infinite Relational Models\"\n",
      "    # Identified with the orange cluster\n",
      "    cluster_with_name(clusters, \"skilling-j\", {\"color\":\"#FF6600\", \"desc\":\"The VIP/executives group\"}),\n",
      "]\n",
      "suspicious = dict(suspicious)\n",
      "\n",
      "for idx, (boundary, size) in enumerate(zip(boundaries, sizes)):\n",
      "    if size < 5:\n",
      "        continue\n",
      "    plt.plot(range(N), boundary*np.ones(N), color='#0066CC')\n",
      "    plt.plot(boundary*np.ones(N), range(N), color='#0066CC')\n",
      "    if idx in suspicious:\n",
      "        rect = patches.Rectangle((boundary-size, boundary-size), \n",
      "            width=size, height=size, alpha=0.5, fc=suspicious[idx][1][\"color\"])\n",
      "        plt.gca().add_patch(rect)\n",
      "plt.imshow(z, cmap=plt.cm.binary, interpolation='nearest')"
     ],
     "language": "python",
     "metadata": {},
     "outputs": [
      {
       "metadata": {},
       "output_type": "pyout",
       "prompt_number": 10,
       "text": [
        "<matplotlib.image.AxesImage at 0x10968add0>"
       ]
      },
      {
       "metadata": {},
       "output_type": "display_data",
       "png": "[encoded data removed]",
       "text": [
        "<matplotlib.figure.Figure at 0x1096b0250>"
       ]
      }
     ],
     "prompt_number": 10
    },
    {
     "cell_type": "code",
     "collapsed": false,
     "input": [
      "def cluster_names(cluster):\n",
      "    return [names[idx] for idx in cluster]\n",
      "def get_full_name(name):\n",
      "    return enron_utils.FULLNAMES.get(name, name)\n",
      "def get_title(name):\n",
      "    return enron_utils.TITLES.get(name, \"?\")\n",
      "\n",
      "for cluster, payload in suspicious.values():\n",
      "    cnames = cluster_names(cluster)\n",
      "    ctitles = map(get_title, cnames)\n",
      "    print payload[\"desc\"]\n",
      "    for n, t in zip(cnames, ctitles):\n",
      "        print \"\\t\", get_full_name(n), '\\t\\t\"{}\"'.format(t)\n",
      "    print"
     ],
     "language": "python",
     "metadata": {},
     "outputs": [
      {
       "output_type": "stream",
       "stream": "stdout",
       "text": [
        "The pipeline/regulatory group\n",
        "\tLynn Blair \t\t\"?\"\n",
        "\tShelley Corman \t\t\"Vice President Regulatory Affairs\"\n",
        "\tLindy Donoho \t\t\"Employee\"\n",
        "\tDrew Fossum \t\t\"Vice President\"\n",
        "\tTracy Geaccone \t\t\"Employee\"\n",
        "\tharris-s \t\t\"?\"\n",
        "\tRod Hayslett \t\t\"Vice President Also Chief Financial Officer and Treasurer\"\n",
        "\tStanley Horton \t\t\"President Enron Gas Pipeline\"\n",
        "\tKevin Hyatt \t\t\"Director Pipeline Business\"\n",
        "\tMichelle Lokay \t\t\"Employee Administrative Asisstant\"\n",
        "\tTeb Lokey \t\t\"Manager Regulatory Affairs\"\n",
        "\tDanny McCarty \t\t\"Vice President\"\n",
        "\tmcconnell-m \t\t\"?\"\n",
        "\tDarrell Schoolcraft \t\t\"?\"\n",
        "\tKimberly Watson \t\t\"?\"\n",
        "\twilliams-j \t\t\"?\"\n",
        "\n",
        "The VIP/executives group\n",
        "\tRick Buy \t\t\"Manager Chief Risk Management Officer\"\n",
        "\tJeff Dasovich \t\t\"Employee Government Relation Executive\"\n",
        "\tDavid Delainey \t\t\"CEO Enron North America and Enron Enery Services\"\n",
        "\tLouise Kitchen \t\t\"President Enron Online\"\n",
        "\tJohn Lavorato \t\t\"CEO Enron America\"\n",
        "\tRichard Shapiro \t\t\"Vice President Regulatory Affairs\"\n",
        "\tJeffery Skilling \t\t\"CEO\"\n",
        "\tBarry Tycholiz \t\t\"Vice President\"\n",
        "\tGreg Whalley \t\t\"President\"\n",
        "\n"
       ]
      }
     ],
     "prompt_number": 11
    },
    {
     "cell_type": "code",
     "collapsed": false,
     "input": [
      "zmat = query.zmatrix(domain=0, latents=infers)\n",
      "zmat = zmatrix_reorder(zmat, zmatrix_heuristic_block_ordering(zmat))"
     ],
     "language": "python",
     "metadata": {},
     "outputs": [],
     "prompt_number": 14
    },
    {
     "cell_type": "code",
     "collapsed": false,
     "input": [
      "plt.imshow(zmat, cmap=plt.cm.binary, interpolation='nearest')\n",
      "plt.xlabel('people (sorted)')\n",
      "plt.ylabel('people (sorted)')"
     ],
     "language": "python",
     "metadata": {},
     "outputs": [
      {
       "metadata": {},
       "output_type": "pyout",
       "prompt_number": 17,
       "text": [
        "<matplotlib.text.Text at 0x10b07a610>"
       ]
      },
      {
       "metadata": {},
       "output_type": "display_data",
       "png": "[encoded data removed]",
       "text": [
        "<matplotlib.figure.Figure at 0x10b18ae90>"
       ]
      }
     ],
     "prompt_number": 17
    },
    {
     "cell_type": "code",
     "collapsed": false,
     "input": [],
     "language": "python",
     "metadata": {},
     "outputs": []
    }
   ],
   "metadata": {}
  }
 ]
}