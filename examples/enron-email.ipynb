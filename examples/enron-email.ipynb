{
 "metadata": {
  "name": "",
  "signature": "sha256:be9fb8772891282e8a5b52e2fb6fb7ab99140cd825469b653216d231f360e69d"
 },
 "nbformat": 3,
 "nbformat_minor": 0,
 "worksheets": [
  {
   "cells": [
    {
     "cell_type": "code",
     "collapsed": false,
     "input": [
      "%matplotlib inline\n",
      "import pickle\n",
      "import time\n",
      "import itertools as it\n",
      "import numpy as np\n",
      "import matplotlib.pylab as plt"
     ],
     "language": "python",
     "metadata": {},
     "outputs": [],
     "prompt_number": 1
    },
    {
     "cell_type": "code",
     "collapsed": false,
     "input": [
      "import enron_utils\n",
      "# this data comes from the publically available enron email \n",
      "# dataset: http://www.cs.cmu.edu/~./enron/\n",
      "#\n",
      "# preprocessing was done as suggested by:\n",
      "# http://www.kecl.ntt.co.jp/as/members/ishiguro/open/2012AISTATS.pdf\n",
      "#\n",
      "# see script `enron_crawler.py' for more details\n",
      "with open('results.p') as fp:\n",
      "    communications = pickle.load(fp)\n",
      "def allnames(o):\n",
      "    for k, v in o:\n",
      "        yield [k] + list(v)\n",
      "names = set(it.chain.from_iterable(allnames(communications)))\n",
      "names = sorted(list(names))\n",
      "namemap = { name : idx for idx, name in enumerate(names) }"
     ],
     "language": "python",
     "metadata": {},
     "outputs": [],
     "prompt_number": 2
    },
    {
     "cell_type": "code",
     "collapsed": false,
     "input": [
      "N = len(names)\n",
      "# X_{ij} = 1 iff person i sent person j an email\n",
      "communications_relation = np.zeros((N, N), dtype=np.bool)\n",
      "for sender, receivers in communications:\n",
      "    sender_id = namemap[sender]\n",
      "    for receiver in receivers:\n",
      "        receiver_id = namemap[receiver]\n",
      "        communications_relation[sender_id, receiver_id] = True\n",
      "\n",
      "print \"N=\", N"
     ],
     "language": "python",
     "metadata": {},
     "outputs": [
      {
       "output_type": "stream",
       "stream": "stdout",
       "text": [
        "N= 115\n"
       ]
      }
     ],
     "prompt_number": 3
    },
    {
     "cell_type": "code",
     "collapsed": false,
     "input": [
      "plt.imshow(communications_relation, cmap=plt.cm.binary, interpolation='nearest')"
     ],
     "language": "python",
     "metadata": {},
     "outputs": [
      {
       "metadata": {},
       "output_type": "pyout",
       "prompt_number": 4,
       "text": [
        "<matplotlib.image.AxesImage at 0x1073bd150>"
       ]
      },
      {
       "metadata": {},
       "output_type": "display_data",
       "png": "[encoded data removed]",
       "text": [
        "<matplotlib.figure.Figure at 0x1072fd510>"
       ]
      }
     ],
     "prompt_number": 4
    },
    {
     "cell_type": "code",
     "collapsed": false,
     "input": [
      "from microscopes.cxx.common.rng import rng\n",
      "from microscopes.cxx.common.sparse_ndarray.dataview import numpy_dataview\n",
      "from microscopes.models import bb as beta_bernoulli\n",
      "from microscopes.irm.definition import model_definition\n",
      "from microscopes.cxx.irm.model import initialize, bind\n",
      "from microscopes.cxx.kernels import gibbs\n",
      "from microscopes.cxx.kernels import slice\n",
      "from microscopes.cxx.common.scalar_functions import log_exponential, log_noninformative_beta_prior"
     ],
     "language": "python",
     "metadata": {},
     "outputs": [],
     "prompt_number": 5
    },
    {
     "cell_type": "code",
     "collapsed": false,
     "input": [
      "defn = model_definition([N], [((0, 0), beta_bernoulli)])\n",
      "view = numpy_dataview(communications_relation)\n",
      "r = rng()"
     ],
     "language": "python",
     "metadata": {},
     "outputs": [],
     "prompt_number": 6
    },
    {
     "cell_type": "code",
     "collapsed": false,
     "input": [
      "latent = initialize(defn, [view], r=r, domain_hps=[{'alpha':1e-3}])"
     ],
     "language": "python",
     "metadata": {},
     "outputs": [
      {
       "output_type": "stream",
       "stream": "stderr",
       "text": [
        "/Users/stephentu/anaconda/envs/ipy/lib/python2.7/site-packages/distributions/mixins.py:38: UserWarning: DEPRECATED dump_protobuf: use protobuf_dump(message) instead\n",
        "  warnings.warn('DEPRECATED {}: {}'.format(fun.__name__, message))\n"
       ]
      }
     ],
     "prompt_number": 7
    },
    {
     "cell_type": "code",
     "collapsed": false,
     "input": [
      "model = bind(latent, 0, [view])"
     ],
     "language": "python",
     "metadata": {},
     "outputs": [],
     "prompt_number": 8
    },
    {
     "cell_type": "code",
     "collapsed": false,
     "input": [
      "start = time.time()\n",
      "for _ in xrange(1000):\n",
      "    gibbs.assign(model, r)\n",
      "    #slice.hp(model, r, hparams={0:{('alpha','beta'):(log_noninformative_beta_prior, 0.5)}})\n",
      "print \"inference took {} seconds\".format(time.time() - start)"
     ],
     "language": "python",
     "metadata": {},
     "outputs": [
      {
       "output_type": "stream",
       "stream": "stdout",
       "text": [
        "inference took 36.8475780487 seconds\n"
       ]
      }
     ],
     "prompt_number": 9
    },
    {
     "cell_type": "code",
     "collapsed": false,
     "input": [
      "def groups(assignments):\n",
      "    cluster_map = {}\n",
      "    for idx, gid in enumerate(assignments):\n",
      "        lst = cluster_map.get(gid, [])\n",
      "        lst.append(idx)\n",
      "        cluster_map[gid] = lst\n",
      "    return tuple(sorted(map(tuple, cluster_map.values()), key=len, reverse=True))"
     ],
     "language": "python",
     "metadata": {},
     "outputs": [],
     "prompt_number": 10
    },
    {
     "cell_type": "code",
     "collapsed": false,
     "input": [
      "clusters = groups(model.assignments())\n",
      "ordering = list(it.chain.from_iterable(clusters))"
     ],
     "language": "python",
     "metadata": {},
     "outputs": [],
     "prompt_number": 11
    },
    {
     "cell_type": "code",
     "collapsed": false,
     "input": [
      "z = communications_relation.copy()\n",
      "z = z[ordering]\n",
      "z = z[:,ordering]\n",
      "sizes = map(len, clusters)\n",
      "boundaries = np.cumsum(sizes)[:-1]\n",
      "for boundary, size in zip(boundaries, sizes):\n",
      "    if size < 5:\n",
      "        continue\n",
      "    z[boundary,:] = True\n",
      "    z[:,boundary] = True\n",
      "plt.imshow(z, cmap=plt.cm.binary, interpolation='nearest')"
     ],
     "language": "python",
     "metadata": {},
     "outputs": [
      {
       "metadata": {},
       "output_type": "pyout",
       "prompt_number": 12,
       "text": [
        "<matplotlib.image.AxesImage at 0x10da9b810>"
       ]
      },
      {
       "metadata": {},
       "output_type": "display_data",
       "png": "[encoded data removed]",
       "text": [
        "<matplotlib.figure.Figure at 0x10d91dfd0>"
       ]
      }
     ],
     "prompt_number": 12
    },
    {
     "cell_type": "code",
     "collapsed": false,
     "input": [
      "def cluster_names(cluster):\n",
      "    return [names[idx] for idx in cluster]\n",
      "def get_full_name(name):\n",
      "    return enron_utils.FULLNAMES.get(name, name)\n",
      "def get_title(name):\n",
      "    return enron_utils.TITLES.get(name, \"?\")\n",
      "\n",
      "def cluster_with_name(clusters, name):\n",
      "    ident = namemap[name]\n",
      "    for cluster in clusters:\n",
      "        if ident in cluster:\n",
      "            return cluster\n",
      "    raise ValueError(\"could not find name\")\n",
      "\n",
      "suspicious = [\n",
      "    # (k=3) in S5.3 of \"Subset Infinite Relational Models\"\n",
      "    cluster_with_name(clusters, \"horton-s\"), \n",
      "\n",
      "    # (k=2) in S5.3 of \"Subset Infinite Relational Models\"\n",
      "    cluster_with_name(clusters, \"skilling-j\"),\n",
      "]\n",
      "for cluster in suspicious:\n",
      "    cnames = cluster_names(cluster)\n",
      "    ctitles = map(get_title, cnames)\n",
      "    for n, t in zip(cnames, ctitles):\n",
      "        print get_full_name(n), '\"{}\"'.format(t)\n",
      "    print"
     ],
     "language": "python",
     "metadata": {},
     "outputs": [
      {
       "output_type": "stream",
       "stream": "stdout",
       "text": [
        "Lynn Blair \"?\"\n",
        "Larry Campbell \"Employee Senior Specialist\"\n",
        "Shelley Corman \"Vice President Regulatory Affairs\"\n",
        "Lindy Donoho \"Employee\"\n",
        "Drew Fossum \"Vice President\"\n",
        "Tracy Geaccone \"Employee\"\n",
        "harris-s \"?\"\n",
        "Rod Hayslett \"Vice President Also Chief Financial Officer and Treasurer\"\n",
        "Stanley Horton \"President Enron Gas Pipeline\"\n",
        "Kevin Hyatt \"Director Pipeline Business\"\n",
        "Michelle Lokay \"Employee Administrative Asisstant\"\n",
        "Teb Lokey \"Manager Regulatory Affairs\"\n",
        "Danny McCarty \"Vice President\"\n",
        "mcconnell-m \"?\"\n",
        "Darrell Schoolcraft \"?\"\n",
        "Kimberly Watson \"?\"\n",
        "williams-j \"?\"\n",
        "\n",
        "Rick Buy \"Manager Chief Risk Management Officer\"\n",
        "Jeff Dasovich \"Employee Government Relation Executive\"\n",
        "David Delainey \"CEO Enron North America and Enron Enery Services\"\n",
        "James Derrick \"In House Lawyer\"\n",
        "Louise Kitchen \"President Enron Online\"\n",
        "John Lavorato \"CEO Enron America\"\n",
        "Richard Shapiro \"Vice President Regulatory Affairs\"\n",
        "Jeffery Skilling \"CEO\"\n",
        "Barry Tycholiz \"Vice President\"\n",
        "Greg Whalley \"President\"\n",
        "\n"
       ]
      }
     ],
     "prompt_number": 13
    },
    {
     "cell_type": "code",
     "collapsed": false,
     "input": [],
     "language": "python",
     "metadata": {},
     "outputs": []
    }
   ],
   "metadata": {}
  }
 ]
}