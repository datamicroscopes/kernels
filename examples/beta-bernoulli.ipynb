{
 "cells": [
  {
   "cell_type": "markdown",
   "metadata": {},
   "source": [
    "#Binary Data with the Beta Bernouli Distribution\n",
    "\n",
    "---\n",
    "\n",
    "Let's consider one of the most basic types of data - binary data"
   ]
  },
  {
   "cell_type": "code",
   "execution_count": 1,
   "metadata": {
    "collapsed": false
   },
   "outputs": [],
   "source": [
    "import pandas as pd\n",
    "import seaborn as sns\n",
    "import math\n",
    "import cPickle as pickle\n",
    "import itertools as it\n",
    "import numpy as np\n",
    "import matplotlib.pyplot as plt\n",
    "from sklearn.datasets import fetch_mldata\n",
    "import itertools as it\n",
    "%matplotlib inline\n",
    "sns.set_context('talk')"
   ]
  },
  {
   "cell_type": "markdown",
   "metadata": {},
   "source": [
    "Binary data can take various forms:\n",
    "\n",
    "Image data is often represented as binary images.  For example, the MNIST dataset contains images of handwritten digits.  \n",
    "\n",
    "Let's convert the MNIST digits into binary images"
   ]
  },
  {
   "cell_type": "code",
   "execution_count": 2,
   "metadata": {
    "collapsed": false
   },
   "outputs": [
    {
     "data": {
      "text/plain": [
       "<matplotlib.text.Text at 0x1127f1910>"
      ]
     },
     "execution_count": 2,
     "metadata": {},
     "output_type": "execute_result"
    },
    {
     "data": {
      "image/png": "[encoded data removed]",
      "text/plain": [
       "<matplotlib.figure.Figure at 0x112792990>"
      ]
     },
     "metadata": {},
     "output_type": "display_data"
    }
   ],
   "source": [
    "mnist_dataset = fetch_mldata('MNIST original')\n",
    "_, D = mnist_dataset['data'].shape\n",
    "Y = mnist_dataset['data'].astype(bool)\n",
    "W = int(math.sqrt(D))\n",
    "assert W * W == D\n",
    "sns.heatmap(np.reshape(Y[0], (W, W)), linewidth=0, xticklabels=False, yticklabels=False, cbar=False)\n",
    "plt.title('Example MNIST Digit')"
   ]
  },
  {
   "cell_type": "markdown",
   "metadata": {
    "collapsed": true
   },
   "source": [
    "Graphs can be represented as binary matrices  \n",
    "\n",
    "In this email communication network from the enron dataset, $X_{i,j} = 1$ if and only if person$_{i}$ sent an email to person$_{j}$"
   ]
  },
  {
   "cell_type": "code",
   "execution_count": 3,
   "metadata": {
    "collapsed": false
   },
   "outputs": [
    {
     "data": {
      "text/plain": [
       "<matplotlib.text.Text at 0x11bca0390>"
      ]
     },
     "execution_count": 3,
     "metadata": {},
     "output_type": "execute_result"
    },
    {
     "data": {
      "image/png": "[encoded data removed]",
      "text/plain": [
       "<matplotlib.figure.Figure at 0x112792250>"
      ]
     },
     "metadata": {},
     "output_type": "display_data"
    }
   ],
   "source": [
    "import enron_utils\n",
    "\n",
    "\n",
    "with open('results.p') as fp:\n",
    "    communications = pickle.load(fp)\n",
    "def allnames(o):\n",
    "    for k, v in o:\n",
    "        yield [k] + list(v)\n",
    "names = set(it.chain.from_iterable(allnames(communications)))\n",
    "names = sorted(list(names))\n",
    "namemap = { name : idx for idx, name in enumerate(names) }\n",
    "N = len(names)\n",
    "communications_relation = np.zeros((N, N), dtype=np.bool)\n",
    "for sender, receivers in communications:\n",
    "    sender_id = namemap[sender]\n",
    "    for receiver in receivers:\n",
    "        receiver_id = namemap[receiver]\n",
    "        communications_relation[sender_id, receiver_id] = True\n",
    "labels = [i if i%20 == 0 else '' for i in xrange(N)]\n",
    "sns.heatmap(communications_relation, linewidths=0, cbar=False, xticklabels=labels, yticklabels=labels) \n",
    "plt.xlabel('person number')\n",
    "plt.ylabel('person number')\n",
    "plt.title('Email Communication Matrix')"
   ]
  },
  {
   "cell_type": "markdown",
   "metadata": {},
   "source": [
    "In a Bayesian context, one often models binary data with a beta Bernoulli distribution\n",
    "\n",
    "The beta Bernoulli distribution is the posterior of the Bernoulli distribution and its conjugate prior the beta distribution\n",
    "\n",
    "Recall that the Bernouli distribution is the likelihood of $x$ given some probability $\\theta$\n",
    "\n",
    "$$P(x=1)=\\theta$$\n",
    "$$P(x=0)=1-\\theta$$\n",
    "$$P(x|\\theta)=\\theta^x(1-\\theta)^{1-x}$$\n",
    "\n",
    "If we wanted to learn the underlying probability $\\theta$, we would use the beta distribution, which is the conjugate prior of the Bernouli distribution.\n",
    "\n",
    "---\n",
    "\n",
    "To import our desired distribution we'd call"
   ]
  },
  {
   "cell_type": "code",
   "execution_count": 4,
   "metadata": {
    "collapsed": true
   },
   "outputs": [],
   "source": [
    "from microscopes.models import bb as beta_bernoulli"
   ]
  },
  {
   "cell_type": "markdown",
   "metadata": {},
   "source": [
    "Then given the specific model we'd want we'd import\n",
    "\n",
    "`from microscopes.model_name.definition import model_definition`"
   ]
  },
  {
   "cell_type": "code",
   "execution_count": 5,
   "metadata": {
    "collapsed": true
   },
   "outputs": [],
   "source": [
    "from microscopes.irm.definition import model_definition as irm_definition\n",
    "from microscopes.mixture.definition import model_definition as mm_definition"
   ]
  },
  {
   "cell_type": "markdown",
   "metadata": {},
   "source": [
    "We would then define the model as follows"
   ]
  },
  {
   "cell_type": "code",
   "execution_count": 6,
   "metadata": {
    "collapsed": false
   },
   "outputs": [],
   "source": [
    "defn_mixture = mm_definition(Y.shape[0], [beta_bernoulli]*D)\n",
    "defn_irm = irm_definition([N], [((0, 0), beta_bernoulli)])"
   ]
  }
 ],
 "metadata": {
  "kernelspec": {
   "display_name": "Python 2",
   "language": "python",
   "name": "python2"
  },
  "language_info": {
   "codemirror_mode": {
    "name": "ipython",
    "version": 2
   },
   "file_extension": ".py",
   "mimetype": "text/x-python",
   "name": "python",
   "nbconvert_exporter": "python",
   "pygments_lexer": "ipython2",
   "version": "2.7.10"
  }
 },
 "nbformat": 4,
 "nbformat_minor": 0
}
