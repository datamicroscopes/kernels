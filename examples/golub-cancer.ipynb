{
 "metadata": {
  "name": "",
  "signature": "sha256:fb94aff6ae770966cb1f730db31235b85388bcac009f1ac558a41c65ffc34595"
 },
 "nbformat": 3,
 "nbformat_minor": 0,
 "worksheets": [
  {
   "cells": [
    {
     "cell_type": "code",
     "collapsed": false,
     "input": [
      "%matplotlib inline\n",
      "import time\n",
      "import itertools as it\n",
      "import numpy as np\n",
      "import matplotlib.pylab as plt\n",
      "import operator as op\n",
      "from sklearn.preprocessing import StandardScaler"
     ],
     "language": "python",
     "metadata": {},
     "outputs": [],
     "prompt_number": 5
    },
    {
     "cell_type": "code",
     "collapsed": false,
     "input": [
      "import golub_utils\n",
      "\n",
      "# This data comes from:\n",
      "# http://www.broadinstitute.org/mpr/publications/projects/Leukemia/data_set_ALL_AML_train.txt\n",
      "relation = np.array(golub_utils.GENE_DATA, dtype=np.float)\n",
      "relation = relation.T # people x genes"
     ],
     "language": "python",
     "metadata": {},
     "outputs": [],
     "prompt_number": 6
    },
    {
     "cell_type": "code",
     "collapsed": false,
     "input": [
      "print relation.shape\n"
     ],
     "language": "python",
     "metadata": {},
     "outputs": [
      {
       "output_type": "stream",
       "stream": "stdout",
       "text": [
        "(38, 7129)\n"
       ]
      }
     ],
     "prompt_number": 7
    },
    {
     "cell_type": "code",
     "collapsed": false,
     "input": [
      "# take top 100 highest variance genes\n",
      "topK = 100\n",
      "inds = map(\n",
      "    op.itemgetter(0), \n",
      "    sorted(enumerate(relation.var(axis=0)), key=op.itemgetter(1), reverse=True))[:topK]"
     ],
     "language": "python",
     "metadata": {},
     "outputs": [],
     "prompt_number": 8
    },
    {
     "cell_type": "code",
     "collapsed": false,
     "input": [
      "small_relation = relation[:,inds]\n",
      "# scale each column of gene expression to zero mean unit variance\n",
      "small_relation = StandardScaler().fit_transform(small_relation)"
     ],
     "language": "python",
     "metadata": {},
     "outputs": [],
     "prompt_number": 9
    },
    {
     "cell_type": "code",
     "collapsed": false,
     "input": [
      "print small_relation"
     ],
     "language": "python",
     "metadata": {},
     "outputs": [
      {
       "output_type": "stream",
       "stream": "stdout",
       "text": [
        "[[ 0.28533844  0.79394618  0.14882763 ...,  0.72536091 -0.15434762\n",
        "  -0.50003737]\n",
        " [-0.33250523  0.60202902  0.66767738 ...,  0.72863169 -0.11204041\n",
        "   2.01110035]\n",
        " [ 1.12047391 -0.94067332 -0.59478749 ...,  2.17163823 -0.18294968\n",
        "   3.14777404]\n",
        " ..., \n",
        " [ 0.53961778 -0.46653759 -0.7292541  ..., -0.6450939  -0.33102491\n",
        "  -0.1929413 ]\n",
        " [ 0.22654184 -0.26373302  0.30280172 ...,  0.72417154 -0.19754864\n",
        "   0.20556664]\n",
        " [-1.10117496  0.99248118 -1.03204937 ..., -0.99952699  0.81424915\n",
        "  -0.47434645]]\n"
       ]
      }
     ],
     "prompt_number": 10
    },
    {
     "cell_type": "code",
     "collapsed": false,
     "input": [
      "from microscopes.cxx.common.rng import rng\n",
      "from microscopes.cxx.common.sparse_ndarray.dataview import numpy_dataview\n",
      "from microscopes.models import nich as normal_inverse_chi_squared\n",
      "from microscopes.irm.definition import model_definition\n",
      "from microscopes.cxx.irm.model import initialize, bind\n",
      "from microscopes.cxx.kernels import gibbs, slice\n",
      "from microscopes.cxx.common.scalar_functions import log_exponential"
     ],
     "language": "python",
     "metadata": {},
     "outputs": [],
     "prompt_number": 43
    },
    {
     "cell_type": "code",
     "collapsed": false,
     "input": [
      "defn = model_definition(domains=small_relation.shape, relations=[((0, 1), normal_inverse_chi_squared)])\n",
      "view = numpy_dataview(small_relation)\n",
      "r = rng()"
     ],
     "language": "python",
     "metadata": {},
     "outputs": [],
     "prompt_number": 45
    },
    {
     "cell_type": "code",
     "collapsed": false,
     "input": [
      "latent = initialize(defn, [view], r=r)\n",
      "model_people = bind(latent, 0, [view])\n",
      "model_genes = bind(latent, 1, [view])"
     ],
     "language": "python",
     "metadata": {},
     "outputs": [],
     "prompt_number": 46
    },
    {
     "cell_type": "code",
     "collapsed": false,
     "input": [
      "start = time.time()\n",
      "hparams = {\n",
      "    0 : {\n",
      "        'mu':(log_exponential(1.), 1.), \n",
      "        'sigmasq':(log_exponential(1.), 1.),\n",
      "    }\n",
      "}\n",
      "cparam = {'alpha':(log_exponential(100.), 1.)}\n",
      "for _ in xrange(1000):\n",
      "    gibbs.assign(model_people, r)\n",
      "    gibbs.assign(model_genes, r)\n",
      "    slice.hp(model_people, r, hparams=hparams, cparam=cparam)\n",
      "    slice.hp(model_genes, r, hparams=None, cparam=cparam)\n",
      "print \"inference took {} seconds\".format(time.time() - start)"
     ],
     "language": "python",
     "metadata": {},
     "outputs": [
      {
       "output_type": "stream",
       "stream": "stdout",
       "text": [
        "inference took 28.9874820709 seconds\n"
       ]
      }
     ],
     "prompt_number": 47
    },
    {
     "cell_type": "code",
     "collapsed": false,
     "input": [
      "def groups(assignments):\n",
      "    cluster_map = {}\n",
      "    for idx, gid in enumerate(assignments):\n",
      "        lst = cluster_map.get(gid, [])\n",
      "        lst.append(idx)\n",
      "        cluster_map[gid] = lst\n",
      "    return tuple(sorted(map(tuple, cluster_map.values()), key=len, reverse=True))\n",
      "clusters_people = groups(model_people.assignments())\n",
      "ordering_people = list(it.chain.from_iterable(clusters_people))\n",
      "clusters_genes = groups(model_genes.assignments())\n",
      "ordering_genes = list(it.chain.from_iterable(clusters_genes))"
     ],
     "language": "python",
     "metadata": {},
     "outputs": [],
     "prompt_number": 48
    },
    {
     "cell_type": "code",
     "collapsed": false,
     "input": [
      "plt.imshow(small_relation, cmap=plt.cm.RdBu, interpolation='nearest')\n",
      "plt.xlabel(\"genes\")\n",
      "plt.ylabel(\"people\")"
     ],
     "language": "python",
     "metadata": {},
     "outputs": [
      {
       "metadata": {},
       "output_type": "pyout",
       "prompt_number": 61,
       "text": [
        "<matplotlib.text.Text at 0x7ff033ba1a90>"
       ]
      },
      {
       "metadata": {},
       "output_type": "display_data",
       "png": "[encoded data removed]",
       "text": [
        "<matplotlib.figure.Figure at 0x7ff033c85510>"
       ]
      }
     ],
     "prompt_number": 61
    },
    {
     "cell_type": "code",
     "collapsed": false,
     "input": [
      "z = small_relation.copy()\n",
      "z = z[ordering_people]\n",
      "z = z[:,ordering_genes]\n",
      "\n",
      "sizes_people = map(len, clusters_people)\n",
      "boundaries_people = np.cumsum(sizes_people)[:-1]\n",
      "sizes_genes = map(len, clusters_genes)\n",
      "boundaries_genes = np.cumsum(sizes_genes)[:-1]\n",
      "\n",
      "for boundary in boundaries_people:\n",
      "    plt.plot(np.arange(small_relation.shape[1]), boundary*np.ones(small_relation.shape[1]), color='k')\n",
      "for boundary in boundaries_genes:\n",
      "    plt.plot(boundary*np.ones(small_relation.shape[0]), np.arange(small_relation.shape[0]), color='k')\n",
      "    \n",
      "plt.imshow(z, cmap=plt.cm.RdBu, interpolation='nearest')\n",
      "plt.xlabel(\"genes (sorted)\")\n",
      "plt.ylabel(\"people (sorted)\")"
     ],
     "language": "python",
     "metadata": {},
     "outputs": [
      {
       "metadata": {},
       "output_type": "pyout",
       "prompt_number": 63,
       "text": [
        "<matplotlib.text.Text at 0x7ff033953150>"
       ]
      },
      {
       "metadata": {},
       "output_type": "display_data",
       "png": "[encoded data removed]",
       "text": [
        "<matplotlib.figure.Figure at 0x7ff0339ad390>"
       ]
      }
     ],
     "prompt_number": 63
    },
    {
     "cell_type": "code",
     "collapsed": false,
     "input": [
      "clusters_people"
     ],
     "language": "python",
     "metadata": {},
     "outputs": [
      {
       "metadata": {},
       "output_type": "pyout",
       "prompt_number": 51,
       "text": [
        "((2, 5, 8, 9, 10, 22),\n",
        " (6, 7, 18, 21, 26),\n",
        " (0, 12, 14, 25),\n",
        " (1, 13, 16, 32),\n",
        " (3, 4, 15, 23),\n",
        " (30, 34, 37),\n",
        " (28, 33),\n",
        " (24, 36),\n",
        " (17, 20),\n",
        " (27, 31),\n",
        " (35,),\n",
        " (29,),\n",
        " (19,),\n",
        " (11,))"
       ]
      }
     ],
     "prompt_number": 51
    },
    {
     "cell_type": "code",
     "collapsed": false,
     "input": [
      "for cluster in clusters_people:\n",
      "    n_all = len([1 for idx in cluster if golub_utils.CANCER_TYPE[idx] == \"ALL\"])\n",
      "    print float(n_all)/float(len(cluster)), [golub_utils.CANCER_TYPE[idx] for idx in cluster]"
     ],
     "language": "python",
     "metadata": {},
     "outputs": [
      {
       "output_type": "stream",
       "stream": "stdout",
       "text": [
        "1.0 ['ALL', 'ALL', 'ALL', 'ALL', 'ALL', 'ALL']\n",
        "1.0 ['ALL', 'ALL', 'ALL', 'ALL', 'ALL']\n",
        "1.0 ['ALL', 'ALL', 'ALL', 'ALL']\n",
        "0.75 ['ALL', 'ALL', 'ALL', 'AML']\n",
        "1.0 ['ALL', 'ALL', 'ALL', 'ALL']\n",
        "0.0 ['AML', 'AML', 'AML']\n",
        "0.0 ['AML', 'AML']\n",
        "0.5 ['ALL', 'AML']\n",
        "1.0 ['ALL', 'ALL']\n",
        "0.0 ['AML', 'AML']\n",
        "0.0 ['AML']\n",
        "0.0 ['AML']\n",
        "1.0 ['ALL']\n",
        "1.0 ['ALL']\n"
       ]
      }
     ],
     "prompt_number": 52
    },
    {
     "cell_type": "code",
     "collapsed": false,
     "input": [],
     "language": "python",
     "metadata": {},
     "outputs": []
    }
   ],
   "metadata": {}
  }
 ]
}