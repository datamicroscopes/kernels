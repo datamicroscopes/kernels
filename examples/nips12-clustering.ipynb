{
 "metadata": {
  "name": "",
  "signature": "sha256:aff8ea2ccef7e90080a7f2731657bbe01575d2c71b4095b8b1a7ec4c2e2d2185"
 },
 "nbformat": 3,
 "nbformat_minor": 0,
 "worksheets": [
  {
   "cells": [
    {
     "cell_type": "code",
     "collapsed": false,
     "input": [
      "import matplotlib.pylab as plt\n",
      "import numpy as np\n",
      "from scipy.io import loadmat\n",
      "from scipy.stats import expon"
     ],
     "language": "python",
     "metadata": {},
     "outputs": [],
     "prompt_number": 1
    },
    {
     "cell_type": "code",
     "collapsed": false,
     "input": [
      "from microscopes.cxx.common.rng import rng\n",
      "from microscopes.cxx.common.recarray.dataview import numpy_dataview\n",
      "from microscopes.cxx.common.scalar_functions import log_exponential\n",
      "from microscopes.models import bb as beta_bernoulli\n",
      "from microscopes.mixture.definition import model_definition\n",
      "from microscopes.cxx.mixture.model import initialize, bind\n",
      "from microscopes.cxx.kernels import gibbs"
     ],
     "language": "python",
     "metadata": {},
     "outputs": [],
     "prompt_number": 3
    },
    {
     "cell_type": "code",
     "collapsed": false,
     "input": [
      "# create random seed\n",
      "r = rng()"
     ],
     "language": "python",
     "metadata": {},
     "outputs": [],
     "prompt_number": 4
    },
    {
     "cell_type": "code",
     "collapsed": false,
     "input": [
      "# NIPS 2012 papers, represented in \"bag-of-words\" format\n",
      "data = loadmat('nips12raw_str602.mat', variable_names=['counts', 'wl'])\n",
      "counts = data['counts']\n",
      "wordlist = [x[0][0] for x in data['wl']]\n",
      "\n",
      "# note that ptitles defined above cannot be loaded with loadmat() due to \n",
      "# a bug in the decoder\n",
      "with open('ptitles.txt') as fp:\n",
      "    names = [x.strip() for x in fp.readlines()]"
     ],
     "language": "python",
     "metadata": {},
     "outputs": [],
     "prompt_number": 5
    },
    {
     "cell_type": "code",
     "collapsed": false,
     "input": [
      "# put counts into a format we can deal with\n",
      "counts = counts.todense()\n",
      "counts = np.array(counts)\n",
      "counts = counts.T # (documents x wordbag)"
     ],
     "language": "python",
     "metadata": {},
     "outputs": [],
     "prompt_number": 6
    },
    {
     "cell_type": "code",
     "collapsed": false,
     "input": [
      "N, W = counts.shape"
     ],
     "language": "python",
     "metadata": {},
     "outputs": [],
     "prompt_number": 7
    },
    {
     "cell_type": "code",
     "collapsed": false,
     "input": [
      "# convert into a numpy struct array\n",
      "Y = np.array([(y,) for y in counts], dtype=[('', np.uint8, W)])"
     ],
     "language": "python",
     "metadata": {},
     "outputs": [],
     "prompt_number": 8
    },
    {
     "cell_type": "code",
     "collapsed": false,
     "input": [
      "# build a dataview\n",
      "view = numpy_dataview(Y)"
     ],
     "language": "python",
     "metadata": {},
     "outputs": [],
     "prompt_number": 9
    },
    {
     "cell_type": "code",
     "collapsed": false,
     "input": [
      "# we will cluster the NIPS documents with a \n",
      "# non-parameter dirichlet process mixture model\n",
      "defn = model_definition(N, models=[beta_bernoulli]*W)\n",
      "\n",
      "# CRP prior alpha\n",
      "crp_alpha = 10.0\n",
      "\n",
      "# bb prior\n",
      "bb_alpha, bb_beta = 1.0, 1.0"
     ],
     "language": "python",
     "metadata": {},
     "outputs": [],
     "prompt_number": 11
    },
    {
     "cell_type": "code",
     "collapsed": false,
     "input": [
      "# start at a random point in the state space\n",
      "initargs = {\n",
      "    'cluster_hp'  : {'alpha':crp_alpha},\n",
      "    'feature_hps' : [{'alpha':bb_alpha,'beta':bb_beta}]*W,\n",
      "}\n",
      "latent = bind(initialize(defn, view, r, **initargs), view)"
     ],
     "language": "python",
     "metadata": {},
     "outputs": [],
     "prompt_number": 12
    },
    {
     "cell_type": "code",
     "collapsed": false,
     "input": [],
     "language": "python",
     "metadata": {},
     "outputs": [],
     "prompt_number": 14
    },
    {
     "cell_type": "code",
     "collapsed": false,
     "input": [
      "# toss the first burnin samples\n",
      "burnin = 1\n",
      "import time\n",
      "start = time.time()\n",
      "for _ in xrange(burnin):\n",
      "    gibbs.assign(latent, r)\n",
      "print 'took:', (time.time() - start), 'seconds'"
     ],
     "language": "python",
     "metadata": {},
     "outputs": [
      {
       "output_type": "stream",
       "stream": "stdout",
       "text": [
        "took: 0.024032831192 seconds\n"
       ]
      }
     ],
     "prompt_number": 13
    },
    {
     "cell_type": "code",
     "collapsed": false,
     "input": [
      "assignments = np.array(latent.assignments(), dtype=np.int)\n",
      "# top K most popular bins\n",
      "K = 5\n",
      "kv = list(enumerate(np.bincount(assignments)))\n",
      "kv = sorted(kv, key=lambda x: x[1], reverse=True)\n",
      "kv = map(lambda x: x[0], kv)\n",
      "topK = kv[:K]"
     ],
     "language": "python",
     "metadata": {},
     "outputs": [],
     "prompt_number": 14
    },
    {
     "cell_type": "code",
     "collapsed": false,
     "input": [
      "def topwords(cluster, k):\n",
      "    idxs = np.where(assignments==cluster)[0]\n",
      "    freqs = counts[idxs].sum(axis=0)\n",
      "    wids = map(lambda x: x[0], sorted(enumerate(freqs), key=lambda x: x[1], reverse=True))[:k]\n",
      "    return [wordlist[wid] for wid in wids]\n",
      "topwords(topK[0], 10)"
     ],
     "language": "python",
     "metadata": {},
     "outputs": [
      {
       "metadata": {},
       "output_type": "pyout",
       "prompt_number": 15,
       "text": [
        "[u'model',\n",
        " u'network',\n",
        " u'learning',\n",
        " u'input',\n",
        " u'neural',\n",
        " u'figure',\n",
        " u'output',\n",
        " u'networks',\n",
        " u'time',\n",
        " u'training']"
       ]
      }
     ],
     "prompt_number": 15
    },
    {
     "cell_type": "code",
     "collapsed": false,
     "input": [],
     "language": "python",
     "metadata": {},
     "outputs": []
    }
   ],
   "metadata": {}
  }
 ]
}