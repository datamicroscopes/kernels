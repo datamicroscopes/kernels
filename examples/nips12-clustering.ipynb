{
 "metadata": {
  "name": "",
  "signature": "sha256:b737d8639b38583b3d79c4732c2c586d27c3ad71653650d64be8eb7d3e516822"
 },
 "nbformat": 3,
 "nbformat_minor": 0,
 "worksheets": [
  {
   "cells": [
    {
     "cell_type": "code",
     "collapsed": false,
     "input": [
      "%matplotlib inline\n",
      "import matplotlib.pylab as plt\n",
      "import numpy as np\n",
      "import time\n",
      "import itertools as it\n",
      "from scipy.io import loadmat"
     ],
     "language": "python",
     "metadata": {},
     "outputs": [],
     "prompt_number": 1
    },
    {
     "cell_type": "code",
     "collapsed": false,
     "input": [
      "from microscopes.models import bb as beta_bernoulli\n",
      "from microscopes.mixture.definition import model_definition\n",
      "from microscopes.common.rng import rng\n",
      "from microscopes.common.recarray.dataview import numpy_dataview\n",
      "from microscopes.common.scalar_functions import log_exponential\n",
      "from microscopes.mixture.model import initialize, bind\n",
      "from microscopes.kernels import gibbs, slice"
     ],
     "language": "python",
     "metadata": {},
     "outputs": [],
     "prompt_number": 2
    },
    {
     "cell_type": "code",
     "collapsed": false,
     "input": [
      "# create random seed\n",
      "r = rng()"
     ],
     "language": "python",
     "metadata": {},
     "outputs": [],
     "prompt_number": 3
    },
    {
     "cell_type": "code",
     "collapsed": false,
     "input": [
      "# NIPS 2012 papers, represented in \"bag-of-words\" format\n",
      "data = loadmat('nips12raw_str602.mat', variable_names=['counts', 'wl'])\n",
      "counts = data['counts']\n",
      "wordlist = [x[0][0] for x in data['wl']]\n",
      "\n",
      "# note that ptitles defined above cannot be loaded with loadmat() due to \n",
      "# a bug in the decoder\n",
      "with open('ptitles.txt') as fp:\n",
      "    titles = [x.strip() for x in fp.readlines()]"
     ],
     "language": "python",
     "metadata": {},
     "outputs": [],
     "prompt_number": 68
    },
    {
     "cell_type": "code",
     "collapsed": false,
     "input": [
      "# put counts into a format we can deal with\n",
      "counts = counts.todense()\n",
      "counts = np.array(counts)\n",
      "counts = counts.T # (documents x wordbag)"
     ],
     "language": "python",
     "metadata": {},
     "outputs": [],
     "prompt_number": 69
    },
    {
     "cell_type": "code",
     "collapsed": false,
     "input": [
      "# the original data dimensions\n",
      "N, W = counts.shape\n",
      "print N, W"
     ],
     "language": "python",
     "metadata": {},
     "outputs": [
      {
       "output_type": "stream",
       "stream": "stdout",
       "text": [
        "1740 13649\n"
       ]
      }
     ],
     "prompt_number": 6
    },
    {
     "cell_type": "code",
     "collapsed": false,
     "input": [
      "# for our simplistic model, we convert counts into\n",
      "# binary \"word occurs/word doesn't occur\"\n",
      "occurances = counts > 0"
     ],
     "language": "python",
     "metadata": {},
     "outputs": [],
     "prompt_number": 8
    },
    {
     "cell_type": "code",
     "collapsed": false,
     "input": [
      "# before clustering, let's do some simple analysis \n",
      "# and look at how similar the document vectors are,\n",
      "# and let's look at a distribution of word counts\n",
      "\n",
      "# first, the distribution on pairwise hamming distances \n",
      "# between documents \n",
      "def hamming(args):\n",
      "    i, j = args\n",
      "    return (occurances[i] != occurances[j]).sum()\n",
      "hamming_dists = list(map(hamming, it.combinations(range(N), 2)))"
     ],
     "language": "python",
     "metadata": {},
     "outputs": [],
     "prompt_number": 9
    },
    {
     "cell_type": "code",
     "collapsed": false,
     "input": [
      "hamming_bins = np.bincount(hamming_dists)\n",
      "plt.bar(range(len(hamming_bins)), hamming_bins)\n",
      "plt.xlabel('hamming dist (W={})'.format(W))\n",
      "plt.ylabel('pairwise occurances (N={})'.format(N))\n",
      "plt.xlim(xmin=0, xmax=W)"
     ],
     "language": "python",
     "metadata": {},
     "outputs": [
      {
       "metadata": {},
       "output_type": "pyout",
       "prompt_number": 10,
       "text": [
        "(0, 13649)"
       ]
      },
      {
       "metadata": {},
       "output_type": "display_data",
       "png": "[encoded data removed]",
       "text": [
        "<matplotlib.figure.Figure at 0x10d6549d0>"
       ]
      }
     ],
     "prompt_number": 10
    },
    {
     "cell_type": "code",
     "collapsed": false,
     "input": [
      "# now let's look at the word occurance frequency count\n",
      "freqs = occurances.sum(axis=0)\n",
      "freqs = np.array(freqs, dtype=np.float)/float(N)\n",
      "plt.bar(range(len(freqs)), freqs)\n",
      "plt.xlabel('word id (W={})'.format(W))\n",
      "plt.ylabel('frequency of documents containing word')"
     ],
     "language": "python",
     "metadata": {},
     "outputs": [
      {
       "metadata": {},
       "output_type": "pyout",
       "prompt_number": 11,
       "text": [
        "<matplotlib.text.Text at 0x11a231f50>"
       ]
      },
      {
       "metadata": {},
       "output_type": "display_data",
       "png": "[encoded data removed]",
       "text": [
        "<matplotlib.figure.Figure at 0x10d654190>"
       ]
      }
     ],
     "prompt_number": 11
    },
    {
     "cell_type": "code",
     "collapsed": false,
     "input": [
      "# because of the long tail, we'll do some dimensionality\n",
      "# reduction-- we'll take the top K words which occur \n",
      "# with frequency closest to 1/2\n",
      "Wtop = 100\n",
      "\n",
      "dists_from_uniform = map(lambda f: np.abs(f-0.5), freqs)\n",
      "useful_freqs = list(sorted(enumerate(dists_from_uniform), key=lambda x: x[1]))\n",
      "useful_features = [idx for idx, _ in useful_freqs[:Wtop]]"
     ],
     "language": "python",
     "metadata": {},
     "outputs": [],
     "prompt_number": 14
    },
    {
     "cell_type": "code",
     "collapsed": false,
     "input": [
      "# now we'll build a dataset from this subset of features\n",
      "Y = np.array([tuple(y) for y in occurances[:,useful_features]], dtype=[('', np.bool)]*Wtop)"
     ],
     "language": "python",
     "metadata": {},
     "outputs": [],
     "prompt_number": 15
    },
    {
     "cell_type": "code",
     "collapsed": false,
     "input": [
      "# build a dataview\n",
      "view = numpy_dataview(Y)"
     ],
     "language": "python",
     "metadata": {},
     "outputs": [],
     "prompt_number": 16
    },
    {
     "cell_type": "code",
     "collapsed": false,
     "input": [
      "# we will cluster the NIPS documents with a \n",
      "# non-parameteric dirichlet process mixture model\n",
      "defn = model_definition(N, models=[beta_bernoulli]*Wtop)\n",
      "\n",
      "# CRP prior alpha\n",
      "crp_alpha = 100.0\n",
      "\n",
      "# bb prior\n",
      "bb_alpha, bb_beta = 1.0, 1.0"
     ],
     "language": "python",
     "metadata": {},
     "outputs": [],
     "prompt_number": 46
    },
    {
     "cell_type": "code",
     "collapsed": false,
     "input": [
      "# start at a random point in the state space\n",
      "initargs = {\n",
      "    'cluster_hp'  : {'alpha':crp_alpha},\n",
      "    'feature_hps' : [{'alpha':bb_alpha,'beta':bb_beta}]*Wtop,\n",
      "}\n",
      "latent = initialize(defn, view, r, **initargs)\n",
      "model = bind(latent, view)"
     ],
     "language": "python",
     "metadata": {},
     "outputs": [],
     "prompt_number": 18
    },
    {
     "cell_type": "code",
     "collapsed": false,
     "input": [
      "# set up hyper-parameter inference\n",
      "indiv_prior_fn = log_exponential(1.2)\n",
      "hparams = { \n",
      "    i : { \n",
      "            'alpha' : (indiv_prior_fn, 1.5),\n",
      "            'beta'  : (indiv_prior_fn, 1.5),\n",
      "        } \n",
      "    for i in xrange(Wtop) \n",
      "}"
     ],
     "language": "python",
     "metadata": {},
     "outputs": [],
     "prompt_number": 25
    },
    {
     "cell_type": "code",
     "collapsed": false,
     "input": [
      "# toss the first burnin samples\n",
      "burnin = 100\n",
      "start = time.time()\n",
      "for _ in xrange(burnin):\n",
      "    gibbs.assign(model, r)\n",
      "    slice.hp(model, r, hparams=hparams)\n",
      "print 'took:', (time.time() - start), 'seconds'"
     ],
     "language": "python",
     "metadata": {},
     "outputs": [
      {
       "output_type": "stream",
       "stream": "stdout",
       "text": [
        "took: 39.1389708519 seconds\n"
       ]
      }
     ],
     "prompt_number": 47
    },
    {
     "cell_type": "code",
     "collapsed": false,
     "input": [
      "# now the group size distribution\n",
      "group_sizes = [latent.groupsize(gid) for gid in latent.groups()]\n",
      "group_sizes = sorted(group_sizes, reverse=True)\n",
      "plt.bar(range(len(group_sizes)), group_sizes)\n",
      "plt.ylabel('group size')"
     ],
     "language": "python",
     "metadata": {},
     "outputs": [
      {
       "metadata": {},
       "output_type": "pyout",
       "prompt_number": 48,
       "text": [
        "<matplotlib.text.Text at 0x12cb61810>"
       ]
      },
      {
       "metadata": {},
       "output_type": "display_data",
       "png": "[encoded data removed]",
       "text": [
        "<matplotlib.figure.Figure at 0x12e03a990>"
       ]
      }
     ],
     "prompt_number": 48
    },
    {
     "cell_type": "code",
     "collapsed": false,
     "input": [],
     "language": "python",
     "metadata": {},
     "outputs": []
    },
    {
     "cell_type": "code",
     "collapsed": false,
     "input": [
      "# top K most popular cluster ids\n",
      "K = 10\n",
      "assignments = np.array(latent.assignments(), dtype=np.int)\n",
      "kv = list(enumerate(np.bincount(assignments)))\n",
      "kv = sorted(kv, key=lambda x: x[1], reverse=True)\n",
      "kv = map(lambda x: x[0], kv)\n",
      "topK = kv[:K]"
     ],
     "language": "python",
     "metadata": {},
     "outputs": [],
     "prompt_number": 63
    },
    {
     "cell_type": "code",
     "collapsed": false,
     "input": [
      "def features_in_order(cluster):\n",
      "    idxs = np.where(assignments==cluster)[0]\n",
      "    freqs = (occurances[:,useful_features])[idxs].sum(axis=0)/float(len(idxs))\n",
      "    return [x for x in sorted(list(zip(useful_features, freqs)), key=lambda x: x[1], reverse=True)]\n",
      "\n",
      "def features_in_order_tfidf(cluster):\n",
      "    idxs = np.where(assignments==cluster)[0]\n",
      "    tfs = (occurances[:,useful_features])[idxs].sum(axis=0)/float(len(idxs))\n",
      "    idfs = np.log(float(N) / occurances[:,useful_features].sum(axis=0))\n",
      "    #idfs = np.log(float(len(idxs)) / ((occurances[:,useful_features])[idxs].sum(axis=0)+1e-5))\n",
      "    tfidfs = tfs * idfs\n",
      "    return [x for x in sorted(list(zip(useful_features, tfidfs)), key=lambda x: x[1], reverse=True)]\n",
      "\n",
      "def cluster_titles(cluster):\n",
      "    idxs = np.where(assignments==cluster)[0]\n",
      "    return [titles[i] for i in idxs]\n",
      "\n",
      "for cid in topK:\n",
      "    top10words = [wordlist[wid] for wid, _ in features_in_order(cid)[:10]]\n",
      "    top10words_tfidf = [wordlist[wid] for wid, _ in features_in_order_tfidf(cid)[:10]]\n",
      "    ts = cluster_titles(cid)\n",
      "    print \"cluster\", cid\n",
      "    print \"top 10 words:\", top10words\n",
      "    print \"top 10 words (TF-IDF):\", top10words_tfidf\n",
      "    print \"titles:\"\n",
      "    for t in ts[:20]:\n",
      "        print \"\\t{}\".format(t)\n",
      "    print"
     ],
     "language": "python",
     "metadata": {},
     "outputs": [
      {
       "output_type": "stream",
       "stream": "stdout",
       "text": [
        "cluster 14\n",
        "top 10 words: [u'hidden', u'weights', u'units', u'layer', u'trained', u'net', u'weight', u'unit', u'task', u'architecture']\n",
        "top 10 words (TF-IDF): [u'hidden', u'trained', u'layer', u'net', u'units', u'architecture', u'unit', u'weight', u'task', u'weights']\n",
        "titles:\n",
        "\tStochastic Learning Networks and their Electronic Implementation\n",
        "\tCentric Models of the Orientation Map in Primary Visual Cortex\n",
        "\tAnalysis and Comparison of Different Learning Algorithms for Pattern Association Problems\n",
        "\tLearning Representations by Recirculation\n",
        "\tHow Neural Nets Work\n",
        "\tLearning a Color Algorithm from Examples\n",
        "\tStatic and Dynamic Error Propagation Networks with Application to Speech Coding\n",
        "\tTeaching Artificial Neural Systems to Drive: Manual Training Techniques for Autonomous Systems\n",
        "\tA 'Neural' Network that Learns to Play Backgammon\n",
        "\tLearning in Networks of Nondeterministic Adaptive Logic Elements\n",
        "\tConstraints on Adaptive Networks for Modeling Human Generalization\n",
        "\tAn Optimality Principle for Unsupervised Learning\n",
        "\tAssociative Learning via Inhibitory Search\n",
        "\tEfficient Parallel Learning Algorithms for Neural Networks\n",
        "\tLearning by Choice of Internal Representations\n",
        "\tConnectionist Learning of Expert Preferences by Comparison Training\n",
        "\tSkeletonization: A Technique for Trimming the Fat from a Network via Relevance Assessment\n",
        "\tThe Boltzmann Perceptron Network: A Multi-Layered Feed-Forward Network Equivalent to the Boltzmann Machine\n",
        "\tAdaptive Neural Net Preprocessing for Signal Detection in Non-Gaussian Noise\n",
        "\tGEMINI: Gradient Estimation Through Matrix Inversion After Noise Injection\n",
        "\n",
        "cluster 29\n",
        "top 10 words: [u'constant', u'properties', u'high', u'institute', u'low', u'range', u'inputs', u'current', u'signal', u'level']\n",
        "top 10 words (TF-IDF): [u'institute', u'properties', u'signal', u'range', u'effect', u'low', u'constant', u'level', u'higher', u'difference']\n",
        "titles:\n",
        "\tSimulations Suggest Information Processing Roles for the Diverse Currents in Hippocampal Neurons\n",
        "\tPresynaptic Neural Information Processing\n",
        "\tPhase Transitions in Neural Networks\n",
        "\tNew Hardware for Massive Neural Networks\n",
        "\tHigh Density Associative Memories\n",
        "\tCorrelational Strength and Computational Algebra of Synaptic Connections Between Neurons\n",
        "\tSchema for Motor Control Utilizing a Network Model of the Cerebellum\n",
        "\tAn Optimization Network for Matrix Inversion\n",
        "\tDistributed Neural Information Processing in the Vestibulo-Ocular System\n",
        "\tSpontaneous and Information-Triggered Segments of Series of Human Brain Electric Field Maps\n",
        "\tProgrammable Synaptic Chip for Electronic Neural Networks\n",
        "\tA Neural-Network Solution to the Concentrator Assignment Problem\n",
        "\tNeuromorphic Networks Based on Sparse Optical Orthogonal Codes\n",
        "\tSynchronization in Neural Nets\n",
        "\tNeural Approach for TV Image Compression Using a Hopfield Type Network\n",
        "\tNeural Analog Diffusion-Enhancement Layer and Spatio-Temporal Grouping in Early Vision\n",
        "\tNeuronal Maps for Sensory-Motor Control in the Barn Owl\n",
        "\tModeling Small Oscillating Biological Networks in Analog VLSI\n",
        "\tStoring Covariance by the Associative Long-Term Potentiation and Depression of Synaptic Strengths in the Hippocampus\n",
        "\tModeling the Olfactory BulbsCoupled Nonlinear Oscillators\n",
        "\n",
        "cluster 100\n",
        "top 10 words: [u'units', u'pattern', u'weights', u'representation', u'trained', u'architecture', u'unit', u'presented', u'inputs', u'task']\n",
        "top 10 words (TF-IDF): [u'representation', u'units', u'trained', u'architecture', u'discussion', u'unit', u'provide', u'task', u'pattern', u'layer']\n",
        "titles:\n",
        "\tA Computer Simulation of Olfactory Cortex with Functional Implications for Storage and Retrieval of Olfactory Information\n",
        "\tPartitioning of Sensory Data by a Cortical Network\n",
        "\tHow the Catfish Tracks Its Prey: An Interactive 'Pipelined' Processing System May Direct Foraging via Reticulospinal Neurons\n",
        "\tDiscovering Structure from Motion in Monkey, Man and Machine\n",
        "\tA Computer Simulation of Cerebral Neocortex: Computational Capabilities of Nonlinear Neural Networks\n",
        "\tA Dynamical Approach to Temporal Pattern Processing\n",
        "\tMapping Classifier Systems Into Neural Networks\n",
        "\tUse of Multi-Layered Networks for Coding Speech with Phonetic Features\n",
        "\tNeural Control of Sensory Acquisition: The Vestibulo-Ocular Reflex\n",
        "\tLearning the Solution to the Aperture Problem for Pattern Motion with a Hebb Rule\n",
        "\tDynamic, Non-Local Role Bindings and Inferencing in a Localist Network for Natural Language Understanding\n",
        "\tAn Adaptive Network That Learns Sequences of Transitions\n",
        "\tDigital Realisation of Self-Organising Maps\n",
        "\tAssociative Memory in a Simple Model of Oscillating Cortex ........\n",
        "\tLearning Aspect Graph Representations from View Sequences\n",
        "\tA Self-Organizing Multiple-View Representation of 3D Objects\n",
        "\tNeuronal Group Selection Theory: A Grounding in Robotics\n",
        "\tOperational Fault Tolerance of CMAC Networks\n",
        "\tIncremental Parsing by Modular Recurrent Connectionist Networks\n",
        "\tRule Representations in a Connectionist Chunker\n",
        "\n",
        "cluster 53\n",
        "top 10 words: [u'trained', u'test', u'high', u'layer', u'hidden', u'architecture', u'task', u'size', u'low', u'sets']\n",
        "top 10 words (TF-IDF): [u'trained', u'layer', u'hidden', u'architecture', u'test', u'sets', u'low', u'task', u'net', u'level']\n",
        "titles:\n",
        "\tSpeech Recognition Experiments with Perceptrons\n",
        "\tHigh Order Neural Networks for Efficient Associative Memory Design\n",
        "\tA Novel Net that Learns Sequential Decision Process\n",
        "\tApplications of Error Back-Propagation to Phonetic Classification\n",
        "\tConsonant Recognition by Modular Construction of Large Phonemic Time-Delay Neural Networks\n",
        "\tTemporal Representations in a Connectionist Speech System\n",
        "\tALVINN: An Autonomous Land Vehicle in a Neural Network\n",
        "\tNeural Network Star Pattern Recognition for Spacecraft Attitude Determination and Control\n",
        "\tLearning Sequential Structure in Simple Recurrent Networks\n",
        "\tPractical Characteristics of Neural Network and Conventional Pattern Classifiers on Artificial and Speech Problems\n",
        "\tHMM Speech Recognition with Neural Net Discrimination\n",
        "\tA Neural Network for Real-Time Signal Processing\n",
        "\tTRAFFIC: Recognizing Objects Using Hierarchical Reference Frame Transformations\n",
        "\tRecognizing Hand-Printed Letters and Digits\n",
        "\tA Large-Scale Neural Network Which Recognizes Handwritten Kanji Characters\n",
        "\tA Neural Network to Detect Homologies in Proteins\n",
        "\tComparing the Performance of Connectionist and Statistical Classifiers on an Image Segmentation Problem\n",
        "\tThe Tempo 2 Algorithm: Adjusting Time-Delays By Supervised Learning .\n",
        "\tA Recurrent Neural Network for Word Identification from Continuous Phoneme Strings .\n",
        "\tSpoken Letter Recognition .\n",
        "\n",
        "cluster 56\n",
        "top 10 words: [u'weights', u'inputs', u'weight', u'layer', u'sum', u'units', u'unit', u'signal', u'pattern', u'architecture']\n",
        "top 10 words (TF-IDF): [u'sum', u'weight', u'layer', u'inputs', u'signal', u'weights', u'architecture', u'unit', u'units', u'hidden']\n",
        "titles:\n",
        "\tMathematical Analysis of Learning Behavior of Neuronal Models\n",
        "\tNetwork Generality, Training Required, and Precision Required\n",
        "\tTemporal Patterns of Activity in Neural Networks\n",
        "\tTime-Sequential Self-Organization of Hierarchical Neural Networks\n",
        "\tStrategies for Teaching Layered Networks Classification Tasks\n",
        "\tSpeech Production Using A Neural Network with a Cooperative Learning Mechanism\n",
        "\tBackpropagation and Its Application to Handwritten Signature Verification\n",
        "\tUsing Backpropagation with Temporal Windows to Learn the Dynamics of the CMU Direct-Drive Arm II\n",
        "\tTraining a 3-Node Neural Network is NP-Complete\n",
        "\tSpreading Activation over Distributed Microfeatures\n",
        "\tA Low-Power CMOS Circuit Which Emulates Temporal Electrical Properties of Neurons\n",
        "\tA Programmable Analog Neural Computer and Simulator\n",
        "\tTraining a Limited-Interconnect, Synthetic Neural IC\n",
        "\tAcoustic-Imaging Computations by Echolocating Bats: Unification of Diversely-Represented Stimulus Features into Whole Images\n",
        "\tNeural Network Analysis of Distributed Representations of Dynamical Sensory- Motor Transformations in the Leech\n",
        "\tConnectionist Architectures for Multi-Speaker Phoneme Recognition\n",
        "\tThe Effects of Circuit Integration on a Feature Map Vector Quantizer\n",
        "\tUsing A Translation-Invariant Neural Network to Diagnose Heart Arrhythmia.\n",
        "\tA Self-organizing Associative Memory System for Control Applications\n",
        "\tA Method for the Associative Storage of Analog Vectors\n",
        "\n",
        "cluster 75\n",
        "top 10 words: [u'average', u'state', u'constant', u'probability', u'effect', u'term', u'rate', u'range', u'noise', u'parameter']\n",
        "top 10 words (TF-IDF): [u'effect', u'term', u'noise', u'assume', u'range', u'average', u'equation', u'state', u'discussion', u'constant']\n",
        "titles:\n",
        "\tMinkowski-r Back-Propagation: Learning in Connectionist Models with Non-Euclidian Error Signals\n",
        "\tA Mean Field Theory of Layer IV of Visual Cortex and Its Application to Artificial Neural Networks\n",
        "\tOptimization by Mean Field Annealing\n",
        "\tModels of Ocular Dominance Column Formation: Analytical and Computational Results\n",
        "\tA Model of Neural Oscillator for a Unified Submodule\n",
        "\tA Self-Learning Neural Network\n",
        "\tNeural Network Simulation of Somatosensory Representational Plasticity\n",
        "\tNon-Boltzmann Dynamics in Networks of Spiking Neurons\n",
        "\tEffects of Firing Synchrony on Signal Propagation in Layered Networks\n",
        "\tAnalysis of Linsker's Simulations of Hebbian Rules\n",
        "\tSelf-organization of Hebbian Synapses in Hippocampal Neurons .\n",
        "\tAssociative Memory in a Network of 'Biological' Neurons .\n",
        "\tPhase-coupling in Two-Dimensional Networks of Interacting Oscillators . . .\n",
        "\tOscillation Onset in Neural Delayed Feedback .\n",
        "\tOptimal Sampling of Natural Images .\n",
        "\tAn Attractor Neural Network Model of Recall and Recognition .\n",
        "\tStationarity of Synaptic Coupling Strength Between Neurons with Nonstationary Discharge Properties\n",
        "\tSingle Neuron Model: Response to Weak Modulation in the Presence of Noise\n",
        "\tBurst Synchronization without Frequency Locking in a Completely Solvable Network Model\n",
        "\tA Neural Network for Motion Detection of Drift-Balanced Stimuli\n",
        "\n",
        "cluster 8\n",
        "top 10 words: [u'probability', u'distribution', u'generated', u'vector', u'methods', u'high', u'find', u'algorithms', u'applied', u'method']\n",
        "top 10 words (TF-IDF): [u'generated', u'probability', u'distribution', u'algorithms', u'solution', u'noise', u'points', u'dimensional', u'find', u'step']\n",
        "titles:\n",
        "\tNavigating Through Temporal Difference .\n",
        "\tStatistical Reliability of a Blowfly Movement-Sensitive Neuron\n",
        "\tObstacle Avoidance through Reinforcement Learning\n",
        "\tPlanar Hidden Markov Modeling: from Speech to Optical Character Recognition\n",
        "\tClustering with a Domain-Specific Distance Measure\n",
        "\tCentral and Pairwise Data Clustering by Competitive Neural Networks\n",
        "\tEfficient Computation of Complex Distance Metrics Using Hierarchical Filtering\n",
        "\tThe Power of Amnesia\n",
        "\tBayesian Modeling and Classification of Neural Signals\n",
        "\tDecoding Cursive Scripts\n",
        "\tMULTIDIMENSIONAL SCALING AND DATA CLUSTERING\n",
        "\tDETERMINISTIC ANNEALING VARIANT OF THE EM ALGORITHM\n",
        "\tACIIVE LEARNING FOR FUNCTION APPROXIMATION\n",
        "\tFamily Discovery\n",
        "\tClustering Data through an Analogy to the Potts Model\n",
        "\tSymplectic Nonlinear Component Analysis\n",
        "\tModeling Saccadic Targeting in Visual Search\n",
        "\tExtraction of Temporal Features in the Electrosensory System of Weakly Electric Fish,\n",
        "\tA Variational Principle for Model-based Morphing,\n",
        "\tMIMIC: Finding Optima by Estimating Probability Densities,\n",
        "\n",
        "cluster 18\n",
        "top 10 words: [u'test', u'method', u'size', u'sets', u'experiments', u'methods', u'vector', u'obtained', u'algorithms', u'computer']\n",
        "top 10 words (TF-IDF): [u'sets', u'test', u'experiments', u'size', u'good', u'algorithms', u'examples', u'method', u'provide', u'methods']\n",
        "titles:\n",
        "\tAn Artificial Neural Network for Spatio-Temporal Bipolar Patterns: Application to Phoneme Classification\n",
        "\tOptimal Neural Spike Classification\n",
        "\tA Continuous Speech Recognition System Embedding MLP into HMM\n",
        "\tBayesian Inference of Regular Grammar and Markov Source Models\n",
        "\tUsing Genetic Algorithms to Improve Pattern Classification Performance .\n",
        "\tMultimodular Architecture for Remote Sensing Options\n",
        "\tHidden Markov Model Induction by Bayesian Model Merging\n",
        "\tEfficient Pattern Recognition Using a New Transformation Distance\n",
        "\tA Boundary Hunting Radial Basis Function Classifier which Allocates Centers Constructively\n",
        "\tA Note on Learning Vector Quantization\n",
        "\tInformation, Prediction, and Query by Committee\n",
        "\tLocally Adaptive Nearest Neighbor Algorithms\n",
        "\tCross-Validation Estimates IMSE\n",
        "\tThe Statistical Mechanics of k-Satisfaction\n",
        "\tLearning Complex Boolean Functions: Algorithms and Applications\n",
        "\tCLASSIFYING WITH GAUSSIAN MIXTURES AND CLUSTERS\n",
        "\tNEW ALGORITHMS FOR 2D AND 3D POINT MATCHING: POSE ESTIMATION AND CORRESPONDENCE\n",
        "\tEstimating the Bayes Risk from Sample Data\n",
        "\tGeometry of Early Stopping in Linear Networks\n",
        "\tBoosting Decision Trees\n",
        "\n",
        "cluster 94\n",
        "top 10 words: [u'functions', u'theory', u'defined', u'weights', u'constant', u'fixed', u'called', u'assume', u'section', u'real']\n",
        "top 10 words (TF-IDF): [u'called', u'assume', u'net', u'theory', u'fact', u'functions', u'constant', u'layer', u'defined', u'computational']\n",
        "titles:\n",
        "\tSupervised Learning of Probability Distributions by Neural Networks\n",
        "\tThe Capacity of the Kanerva Associative Memory is Exponential\n",
        "\tLinear Learning: Landscapes and Algorithms\n",
        "\tWhat Size Net Gives Valid Generalization?\n",
        "\tThe Effect of Catecholamines on Performance: From Unit to System Behavior\n",
        "\tThe Perceptron Algorithm Is Fast for Non-Malicious Distributions\n",
        "\tAnalog Neural Networks of Limited Precision I: Computing with Multilinear Threshold Functions\n",
        "\tComputing with Arrays of Bell-Shaped and Sigrnoid Functions .\n",
        "\tDiscrete Affine Wavelet Transforms .\n",
        "\tExtensions of a Theory of Networks for Approximation and Learning .\n",
        "\tEfficient Design of Boltzmann Machines .\n",
        "\tThe Devil and the Network .\n",
        "\tRemarks on Interpolation and Recognition Using Neural Nets .\n",
        "\te-Entropy and the Complexity of Feedforward Neural Networks .\n",
        "\tOn The Circuit Complexity of Neural Networks .\n",
        "\tEstimating Average-Case Learning Curves Using Bayesian, Statistical Physics and VC Dimension Methods\n",
        "\tThreshold Network Learning in the Presence of Equivalences\n",
        "\tNeural Computing with Small Weights\n",
        "\tSplines, Rational Functions and Neural Networks\n",
        "\tComputing with Almost Optimal Size Neural Networks\n",
        "\n",
        "cluster"
       ]
      },
      {
       "output_type": "stream",
       "stream": "stdout",
       "text": [
        " 60\n",
        "top 10 words: [u'state', u'step', u'current', u'algorithms', u'problems', u'optimal', u'defined', u'probability', u'methods', u'random']\n",
        "top 10 words (TF-IDF): [u'optimal', u'algorithms', u'mit', u'state', u'step', u'solution', u'current', u'equation', u'called', u'assume']\n",
        "titles:\n",
        "\tSequential Decision Problems and Neural Networks\n",
        "\tLearning Time-varying Concepts .\n",
        "\tIntegrated Modeling and Control Based on Reinforcement Learning .\n",
        "\tSimulation of Optimal Movements Using the Minimum-Muscle-Tension-Change Model\n",
        "\tIncrementally Learning Time-varying Half-planes\n",
        "\tMemory-based Reinforcement Learning: Efficient Computation with Prioritized Sweeping\n",
        "\tWhen Will a Genetic Algorithm Outperform Hill Climbing?\n",
        "\tMonte Carlo Matrix Inversion and Reinforcement Learning\n",
        "\tConvergence of Indirect Adaptive Asynchronous Value Iteration Algorithms\n",
        "\tConvergence of Stochastic Iterative Dynamic Programming Algorithms\n",
        "\tREINFORCEMENT LEARNING ALGORITHM FOR PARTIALLY OBSERVABLE MARKOV DECISION PROBLEMS\n",
        "\tADVANTAGE UPDATING APPLIED TO A DIFFERENTIAL GAME\n",
        "\tREINFORCEMENT LEARNING W1TH SOFT STATE AGGREGATION\n",
        "\tINSTANCE-BASED STATE IDENTIFICATION FOR REINFORCEMENT LEARNING\n",
        "\tAN ACTOR/CRITIC ALGORITHM THAT IS EQUIVALENT TO Q-LEARNING\n",
        "\tINTERIOR POINT IMPLEMENTATIONS OF ALTERNATING MINIMIZATION TRAINING\n",
        "\tPredictive Q-Routing: A Memory-based Reinforcement Learning Approach to Adaptive Traffic Control\n",
        "\tParallel Optimization of Motion Controllers via Policy Iteration\n",
        "\tStable Linear Approximations to Dynamic Programming for Stochastic Control Problems with Local Transitions\n",
        "\tStable Fitted Reinforcement Learning\n",
        "\n"
       ]
      }
     ],
     "prompt_number": 79
    },
    {
     "cell_type": "code",
     "collapsed": false,
     "input": [],
     "language": "python",
     "metadata": {},
     "outputs": []
    }
   ],
   "metadata": {}
  }
 ]
}